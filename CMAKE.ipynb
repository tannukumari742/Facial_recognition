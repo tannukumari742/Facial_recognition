{
 "cells": [
  {
   "cell_type": "code",
   "execution_count": 1,
   "id": "fb33ecda",
   "metadata": {},
   "outputs": [
    {
     "name": "stdout",
     "output_type": "stream",
     "text": [
      "Defaulting to user installation because normal site-packages is not writeable\n",
      "Requirement already satisfied: opencv-python in c:\\users\\hp\\appdata\\roaming\\python\\python311\\site-packages (4.8.1.78)\n",
      "Requirement already satisfied: numpy>=1.21.2 in c:\\programdata\\anaconda3\\lib\\site-packages (from opencv-python) (1.24.3)\n"
     ]
    }
   ],
   "source": [
    "!pip install opencv-python"
   ]
  },
  {
   "cell_type": "code",
   "execution_count": 2,
   "id": "e972e6ac",
   "metadata": {},
   "outputs": [],
   "source": [
    "import cv2"
   ]
  },
  {
   "cell_type": "code",
   "execution_count": 3,
   "id": "4cd34ed6",
   "metadata": {},
   "outputs": [
    {
     "name": "stdout",
     "output_type": "stream",
     "text": [
      "Microsoft Windows [Version 10.0.19044.1826]\n",
      "(c) Microsoft Corporation. All rights reserved.\n",
      "\n",
      "C:\\Users\\HP\\Desktop\\Project>where python\n",
      "C:\\ProgramData\\anaconda3\\python.exe\n",
      "C:\\Users\\HP\\AppData\\Local\\Programs\\Python\\Python310\\python.exe\n",
      "C:\\Users\\HP\\AppData\\Local\\Microsoft\\WindowsApps\\python.exe\n",
      "\n",
      "C:\\Users\\HP\\Desktop\\Project>"
     ]
    }
   ],
   "source": [
    "%%cmd\n",
    "where python"
   ]
  },
  {
   "cell_type": "code",
   "execution_count": 4,
   "id": "34f06a11",
   "metadata": {},
   "outputs": [],
   "source": [
    "# C:\\ProgramData\\anaconda3\\python.exe"
   ]
  },
  {
   "cell_type": "code",
   "execution_count": 1,
   "id": "dd7b6d3e",
   "metadata": {},
   "outputs": [
    {
     "name": "stdout",
     "output_type": "stream",
     "text": [
      "Microsoft Windows [Version 10.0.19044.1826]\n",
      "(c) Microsoft Corporation. All rights reserved.\n",
      "\n",
      "C:\\Users\\HP\\Desktop\\Emotion>python --version\n",
      "Python 3.11.5\n",
      "\n",
      "C:\\Users\\HP\\Desktop\\Emotion>"
     ]
    }
   ],
   "source": [
    "%%cmd\n",
    "python --version"
   ]
  },
  {
   "cell_type": "code",
   "execution_count": 2,
   "id": "a3d75cbf",
   "metadata": {},
   "outputs": [
    {
     "name": "stdout",
     "output_type": "stream",
     "text": [
      "Microsoft Windows [Version 10.0.19044.1826]\n",
      "(c) Microsoft Corporation. All rights reserved.\n",
      "\n",
      "C:\\Users\\HP\\Desktop\\Emotion>pip install \"C:\\Users\\HP\\Downloads\\dlib-19.24.1-cp311-cp311-win_amd64.whl\"\n",
      "Defaulting to user installation because normal site-packages is not writeable\n",
      "Processing c:\\users\\hp\\downloads\\dlib-19.24.1-cp311-cp311-win_amd64.whl\n",
      "Installing collected packages: dlib\n",
      "Successfully installed dlib-19.24.1\n",
      "\n",
      "C:\\Users\\HP\\Desktop\\Emotion>"
     ]
    }
   ],
   "source": [
    "%%cmd\n",
    "pip install \"C:\\Users\\HP\\Downloads\\dlib-19.24.1-cp311-cp311-win_amd64.whl\""
   ]
  },
  {
   "cell_type": "code",
   "execution_count": 5,
   "id": "ffc636f1",
   "metadata": {},
   "outputs": [
    {
     "name": "stdout",
     "output_type": "stream",
     "text": [
      "Microsoft Windows [Version 10.0.19044.1826]\n",
      "(c) Microsoft Corporation. All rights reserved.\n",
      "\n",
      "C:\\Users\\HP\\Desktop\\Emotion>pip install face-recognition\n",
      "Defaulting to user installation because normal site-packages is not writeable\n",
      "Requirement already satisfied: face-recognition in c:\\users\\hp\\appdata\\roaming\\python\\python311\\site-packages (1.3.0)\n",
      "Requirement already satisfied: face-recognition-models>=0.3.0 in c:\\users\\hp\\appdata\\roaming\\python\\python311\\site-packages (from face-recognition) (0.3.0)\n",
      "Requirement already satisfied: Click>=6.0 in c:\\programdata\\anaconda3\\lib\\site-packages (from face-recognition) (8.0.4)\n",
      "Requirement already satisfied: dlib>=19.7 in c:\\users\\hp\\appdata\\roaming\\python\\python311\\site-packages (from face-recognition) (19.24.1)\n",
      "Requirement already satisfied: numpy in c:\\programdata\\anaconda3\\lib\\site-packages (from face-recognition) (1.24.3)\n",
      "Requirement already satisfied: Pillow in c:\\programdata\\anaconda3\\lib\\site-packages (from face-recognition) (9.4.0)\n",
      "Requirement already satisfied: colorama in c:\\programdata\\anaconda3\\lib\\site-packages (from Click>=6.0->face-recognition) (0.4.6)\n",
      "\n",
      "C:\\Users\\HP\\Desktop\\Emotion>"
     ]
    }
   ],
   "source": [
    "%%cmd\n",
    "pip install face-recognition"
   ]
  },
  {
   "cell_type": "code",
   "execution_count": 4,
   "id": "e43d6769",
   "metadata": {},
   "outputs": [
    {
     "name": "stdout",
     "output_type": "stream",
     "text": [
      "Microsoft Windows [Version 10.0.19044.1826]\n",
      "(c) Microsoft Corporation. All rights reserved.\n",
      "\n",
      "C:\\Users\\HP\\Desktop\\Emotion>pip install cmake\n",
      "Defaulting to user installation because normal site-packages is not writeable\n",
      "Requirement already satisfied: cmake in c:\\users\\hp\\appdata\\roaming\\python\\python311\\site-packages (3.27.7)\n",
      "\n",
      "C:\\Users\\HP\\Desktop\\Emotion>"
     ]
    }
   ],
   "source": [
    "%%cmd\n",
    "pip install cmake"
   ]
  },
  {
   "cell_type": "code",
   "execution_count": 7,
   "id": "42c73033",
   "metadata": {},
   "outputs": [
    {
     "name": "stdout",
     "output_type": "stream",
     "text": [
      "Microsoft Windows [Version 10.0.19044.1826]\n",
      "(c) Microsoft Corporation. All rights reserved.\n",
      "\n",
      "C:\\Users\\HP\\Desktop\\Project>python --version\n",
      "Python 3.11.5\n",
      "\n",
      "C:\\Users\\HP\\Desktop\\Project>"
     ]
    }
   ],
   "source": [
    "%%cmd\n",
    "python --version"
   ]
  },
  {
   "cell_type": "code",
   "execution_count": null,
   "id": "e98fe04c",
   "metadata": {},
   "outputs": [],
   "source": []
  },
  {
   "cell_type": "code",
   "execution_count": 6,
   "id": "9007244a",
   "metadata": {},
   "outputs": [
    {
     "ename": "FileNotFoundError",
     "evalue": "[Errno 2] No such file or directory: 'pawankrgunjan.jpeg'",
     "output_type": "error",
     "traceback": [
      "\u001b[1;31m---------------------------------------------------------------------------\u001b[0m",
      "\u001b[1;31mFileNotFoundError\u001b[0m                         Traceback (most recent call last)",
      "Cell \u001b[1;32mIn[6], line 8\u001b[0m\n\u001b[0;32m      4\u001b[0m \u001b[38;5;28;01mimport\u001b[39;00m \u001b[38;5;21;01mmatplotlib\u001b[39;00m\u001b[38;5;21;01m.\u001b[39;00m\u001b[38;5;21;01mpyplot\u001b[39;00m \u001b[38;5;28;01mas\u001b[39;00m \u001b[38;5;21;01mplt\u001b[39;00m\n\u001b[0;32m      7\u001b[0m \u001b[38;5;66;03m# Load the known image \u001b[39;00m\n\u001b[1;32m----> 8\u001b[0m known_image \u001b[38;5;241m=\u001b[39m face_recognition\u001b[38;5;241m.\u001b[39mload_image_file(\u001b[38;5;124m\"\u001b[39m\u001b[38;5;124mpawankrgunjan.jpeg\u001b[39m\u001b[38;5;124m\"\u001b[39m)\n\u001b[0;32m      9\u001b[0m known_faces \u001b[38;5;241m=\u001b[39m face_recognition\u001b[38;5;241m.\u001b[39mface_encodings(face_image \u001b[38;5;241m=\u001b[39m known_image,\n\u001b[0;32m     10\u001b[0m \t\t\t\t\t\t\t\t\t\t\tnum_jitters\u001b[38;5;241m=\u001b[39m\u001b[38;5;241m50\u001b[39m,\n\u001b[0;32m     11\u001b[0m \t\t\t\t\t\t\t\t\t\t\tmodel\u001b[38;5;241m=\u001b[39m\u001b[38;5;124m'\u001b[39m\u001b[38;5;124mlarge\u001b[39m\u001b[38;5;124m'\u001b[39m)[\u001b[38;5;241m0\u001b[39m]\n\u001b[0;32m     13\u001b[0m \u001b[38;5;66;03m# Lanch the live camera\u001b[39;00m\n",
      "File \u001b[1;32m~\\AppData\\Roaming\\Python\\Python311\\site-packages\\face_recognition\\api.py:86\u001b[0m, in \u001b[0;36mload_image_file\u001b[1;34m(file, mode)\u001b[0m\n\u001b[0;32m     78\u001b[0m \u001b[38;5;28;01mdef\u001b[39;00m \u001b[38;5;21mload_image_file\u001b[39m(file, mode\u001b[38;5;241m=\u001b[39m\u001b[38;5;124m'\u001b[39m\u001b[38;5;124mRGB\u001b[39m\u001b[38;5;124m'\u001b[39m):\n\u001b[0;32m     79\u001b[0m \u001b[38;5;250m    \u001b[39m\u001b[38;5;124;03m\"\"\"\u001b[39;00m\n\u001b[0;32m     80\u001b[0m \u001b[38;5;124;03m    Loads an image file (.jpg, .png, etc) into a numpy array\u001b[39;00m\n\u001b[0;32m     81\u001b[0m \n\u001b[1;32m   (...)\u001b[0m\n\u001b[0;32m     84\u001b[0m \u001b[38;5;124;03m    :return: image contents as numpy array\u001b[39;00m\n\u001b[0;32m     85\u001b[0m \u001b[38;5;124;03m    \"\"\"\u001b[39;00m\n\u001b[1;32m---> 86\u001b[0m     im \u001b[38;5;241m=\u001b[39m PIL\u001b[38;5;241m.\u001b[39mImage\u001b[38;5;241m.\u001b[39mopen(file)\n\u001b[0;32m     87\u001b[0m     \u001b[38;5;28;01mif\u001b[39;00m mode:\n\u001b[0;32m     88\u001b[0m         im \u001b[38;5;241m=\u001b[39m im\u001b[38;5;241m.\u001b[39mconvert(mode)\n",
      "File \u001b[1;32mC:\\ProgramData\\anaconda3\\Lib\\site-packages\\PIL\\Image.py:3227\u001b[0m, in \u001b[0;36mopen\u001b[1;34m(fp, mode, formats)\u001b[0m\n\u001b[0;32m   3224\u001b[0m     filename \u001b[38;5;241m=\u001b[39m fp\n\u001b[0;32m   3226\u001b[0m \u001b[38;5;28;01mif\u001b[39;00m filename:\n\u001b[1;32m-> 3227\u001b[0m     fp \u001b[38;5;241m=\u001b[39m builtins\u001b[38;5;241m.\u001b[39mopen(filename, \u001b[38;5;124m\"\u001b[39m\u001b[38;5;124mrb\u001b[39m\u001b[38;5;124m\"\u001b[39m)\n\u001b[0;32m   3228\u001b[0m     exclusive_fp \u001b[38;5;241m=\u001b[39m \u001b[38;5;28;01mTrue\u001b[39;00m\n\u001b[0;32m   3230\u001b[0m \u001b[38;5;28;01mtry\u001b[39;00m:\n",
      "\u001b[1;31mFileNotFoundError\u001b[0m: [Errno 2] No such file or directory: 'pawankrgunjan.jpeg'"
     ]
    }
   ],
   "source": [
    "# Import the necessary packages\n",
    "import cv2 as cv\n",
    "import face_recognition\n",
    "import matplotlib.pyplot as plt\n",
    "\n",
    "\n",
    "# Load the known image \n",
    "known_image = face_recognition.load_image_file(\"pawankrgunj.jpeg\")\n",
    "known_faces = face_recognition.face_encodings(face_image = known_image,\n",
    "\t\t\t\t\t\t\t\t\t\t\tnum_jitters=50,\n",
    "\t\t\t\t\t\t\t\t\t\t\tmodel='large')[0]\n",
    "\n",
    "# Lanch the live camera\n",
    "cam = cv.VideoCapture(0)\n",
    "#Check camera\n",
    "if not cam.isOpened():\n",
    "\tprint(\"Camera not working\")\n",
    "\texit()\n",
    "\t\n",
    "# when camera is opened\n",
    "while True:\n",
    "\t\n",
    "\t# campture the image frame-by-frame\n",
    "\tret, frame = cam.read()\n",
    "\t\n",
    "\t# check frame is reading or not\n",
    "\tif not ret:\n",
    "\t\tprint(\"Can't receive the frame\")\n",
    "\t\tbreak\n",
    "\n",
    "\t# Face detection in the frame\n",
    "\tface_locations = face_recognition.face_locations(frame)\n",
    "\n",
    "\tfor face_location in face_locations:\n",
    "\t\ttop, right, bottom, left = face_location\n",
    "\t\t# Draw a rectangle with blue line borders of thickness of 2 px\n",
    "\t\tframe = cv.rectangle(frame, (right,top), (left,bottom), color = (0,0, 255), thickness=2)\n",
    "\t# Check the each faces location in each frame\n",
    "\ttry:\n",
    "\t\t# Frame encoding\n",
    "\t\tLive_face_encoding = face_recognition.face_encodings(face_image = frame,\n",
    "\t\t\t\t\t\t\t\t\t\t\t\t\t\t\tnum_jitters=23,\n",
    "\t\t\t\t\t\t\t\t\t\t\t\t\t\t\tmodel='large')[0]\n",
    "\n",
    "\t\t# Match with the known faces\n",
    "\t\tresults = face_recognition.compare_faces([known_faces], Live_face_encoding)\n",
    "\n",
    "\t\tif results:\n",
    "\t\t\timg = cv.cvtColor(frame, cv2.COLOR_BGR2RGB)\n",
    "\t\t\timg = cv.putText(img, 'PawanKrgunjan', (30, 55), cv2.FONT_HERSHEY_SIMPLEX, 1,\n",
    "\t\t\t\t\t(255,0,0), 2, cv2.LINE_AA)\n",
    "\t\t\tprint('Pawan Kumar Gunjan Enter....')\n",
    "\t\t\tplt.imshow(img)\n",
    "\t\t\tplt.show()\n",
    "\t\t\tbreak\n",
    "\texcept:\n",
    "\t\timg = cv.putText(frame, 'Not PawanKrgunjan', (30, 55), cv2.FONT_HERSHEY_SIMPLEX, 1,\n",
    "\t\t\t\t(255,0,0), 2, cv2.LINE_AA)\n",
    "\t\t# Display the resulting frame\n",
    "\t\tcv.imshow('frame', img)\n",
    "\t\t# End the streaming\n",
    "\t\tif cv.waitKey(1) == ord('q'):\n",
    "\t\t\tbreak\n",
    "\t\n",
    "\n",
    "# Release the capture\n",
    "cam.release()\n",
    "cv.destroyAllWindows()\n"
   ]
  },
  {
   "cell_type": "code",
   "execution_count": 7,
   "id": "e7ef702e",
   "metadata": {},
   "outputs": [],
   "source": [
    "import face_recognition"
   ]
  },
  {
   "cell_type": "code",
   "execution_count": null,
   "id": "14bfca5e",
   "metadata": {},
   "outputs": [],
   "source": [
    "!pip install super-gradients"
   ]
  }
 ],
 "metadata": {
  "kernelspec": {
   "display_name": "Python 3 (ipykernel)",
   "language": "python",
   "name": "python3"
  },
  "language_info": {
   "codemirror_mode": {
    "name": "ipython",
    "version": 3
   },
   "file_extension": ".py",
   "mimetype": "text/x-python",
   "name": "python",
   "nbconvert_exporter": "python",
   "pygments_lexer": "ipython3",
   "version": "3.11.5"
  }
 },
 "nbformat": 4,
 "nbformat_minor": 5
}
